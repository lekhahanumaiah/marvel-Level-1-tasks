{
 "cells": [
  {
   "cell_type": "code",
   "execution_count": 19,
   "id": "bd0d2786-80f6-4362-b755-d4643044dd1d",
   "metadata": {},
   "outputs": [
    {
     "name": "stdout",
     "output_type": "stream",
     "text": [
      "Small Array:\n",
      "[[1 2]\n",
      " [3 4]]\n",
      "\n",
      "Array by Repeating Small Array:\n",
      "[[1 2 1 2]\n",
      " [3 4 3 4]\n",
      " [1 2 1 2]\n",
      " [3 4 3 4]\n",
      " [1 2 1 2]\n",
      " [3 4 3 4]]\n",
      "\n",
      "Array with Element Indexes:\n",
      "[[ 0  1  2  3]\n",
      " [ 4  5  6  7]\n",
      " [ 8  9 10 11]\n",
      " [12 13 14 15]\n",
      " [16 17 18 19]\n",
      " [20 21 22 23]]\n"
     ]
    }
   ],
   "source": [
    "import numpy as np\n",
    "\n",
    "# Generate an array by repeating a small array across each dimension\n",
    "small_array = np.array([[1, 2], [3, 4]])\n",
    "repeated_array = np.tile(small_array, (3, 2))\n",
    "\n",
    "# Generate an array with element indexes such that the array elements appear in ascending order\n",
    "index_array = np.arange(repeated_array.size).reshape(repeated_array.shape)\n",
    "\n",
    "# Print the arrays\n",
    "print(\"Small Array:\")\n",
    "print(small_array)\n",
    "\n",
    "print(\"\\nArray by Repeating Small Array:\")\n",
    "print(repeated_array)\n",
    "\n",
    "print(\"\\nArray with Element Indexes:\")\n",
    "print(index_array)\n"
   ]
  },
  {
   "cell_type": "code",
   "execution_count": null,
   "id": "9e085c5e-94e4-429f-8f6f-73606927a5c1",
   "metadata": {},
   "outputs": [],
   "source": []
  }
 ],
 "metadata": {
  "kernelspec": {
   "display_name": "Python 3 (ipykernel)",
   "language": "python",
   "name": "python3"
  },
  "language_info": {
   "codemirror_mode": {
    "name": "ipython",
    "version": 3
   },
   "file_extension": ".py",
   "mimetype": "text/x-python",
   "name": "python",
   "nbconvert_exporter": "python",
   "pygments_lexer": "ipython3",
   "version": "3.12.4"
  }
 },
 "nbformat": 4,
 "nbformat_minor": 5
}
