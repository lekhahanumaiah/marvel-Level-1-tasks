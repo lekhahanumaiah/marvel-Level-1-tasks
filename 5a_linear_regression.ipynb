{
 "cells": [
  {
   "cell_type": "code",
   "execution_count": 1,
   "id": "1b5335cf-dd22-4267-857a-438f5417859f",
   "metadata": {},
   "outputs": [
    {
     "name": "stdout",
     "output_type": "stream",
     "text": [
      "Weight (w): 0.6176946148762643\n",
      "Bias (b): 2.136116825825789\n",
      "Predictions: [2.75381144 3.37150606 3.98920067 4.60689529 5.2245899 ]\n"
     ]
    }
   ],
   "source": [
    "import numpy as np\n",
    "\n",
    "class LinearRegression:\n",
    "    def __init__(self, learning_rate=0.01, epochs=1000):\n",
    "        self.learning_rate = learning_rate\n",
    "        self.epochs = epochs\n",
    "        self.w = None\n",
    "        self.b = None\n",
    "\n",
    "    def fit(self, X, y):\n",
    "        # Initialize parameters\n",
    "        self.w = 0\n",
    "        self.b = 0\n",
    "        n = len(X)\n",
    "\n",
    "        # Gradient Descent\n",
    "        for _ in range(self.epochs):\n",
    "            # Make predictions\n",
    "            y_pred = self.w * X + self.b\n",
    "            \n",
    "            # Calculate gradients\n",
    "            dw = (-2/n) * np.sum(X * (y - y_pred))\n",
    "            db = (-2/n) * np.sum(y - y_pred)\n",
    "            \n",
    "            # Update weights\n",
    "            self.w -= self.learning_rate * dw\n",
    "            self.b -= self.learning_rate * db\n",
    "\n",
    "    def predict(self, X):\n",
    "        return self.w * X + self.b\n",
    "\n",
    "# Example usage\n",
    "# Generate some data for demonstration\n",
    "X = np.array([1, 2, 3, 4, 5])\n",
    "y = np.array([2, 4, 5, 4, 5])\n",
    "\n",
    "# Initialize model\n",
    "model = LinearRegression(learning_rate=0.01, epochs=1000)\n",
    "# Train the model\n",
    "model.fit(X, y)\n",
    "# Make predictions\n",
    "predictions = model.predict(X)\n",
    "\n",
    "print(\"Weight (w):\", model.w)\n",
    "print(\"Bias (b):\", model.b)\n",
    "print(\"Predictions:\", predictions)\n"
   ]
  },
  {
   "cell_type": "raw",
   "id": "37abfcbc-edb6-4ef2-adb1-c274d016d30a",
   "metadata": {},
   "source": [
    "Testing The Model"
   ]
  },
  {
   "cell_type": "code",
   "execution_count": 3,
   "id": "f1111271-bf72-4338-b0ac-d28ce998d533",
   "metadata": {},
   "outputs": [
    {
     "name": "stdout",
     "output_type": "stream",
     "text": [
      "Weight (w): 1.982946541995987\n",
      "Bias (b): 1.101258603922903\n",
      "Predictions: [ 3.08420515  5.06715169  7.05009823  9.03304477 11.01599131 12.99893786\n",
      " 14.9818844  16.96483094 18.94777748 20.93072402]\n"
     ]
    }
   ],
   "source": [
    "# New dataset\n",
    "X = np.array([1, 2, 3, 4, 5, 6, 7, 8, 9, 10])\n",
    "y = np.array([3.1, 4.9, 7.2, 8.8, 11.3, 13.4, 14.9, 16.5, 18.9, 21.1])\n",
    "\n",
    "# Initialize and train the model\n",
    "model = LinearRegression(learning_rate=0.01, epochs=1000)\n",
    "model.fit(X, y)\n",
    "\n",
    "# Predict on the dataset\n",
    "predictions = model.predict(X)\n",
    "\n",
    "print(\"Weight (w):\", model.w)\n",
    "print(\"Bias (b):\", model.b)\n",
    "print(\"Predictions:\", predictions)\n"
   ]
  },
  {
   "cell_type": "raw",
   "id": "f754cdf6-ad87-4110-a1a5-46d59ec7d154",
   "metadata": {},
   "source": [
    "comparing  it with sci-kits built-in algorithm for various datasets"
   ]
  },
  {
   "cell_type": "code",
   "execution_count": 6,
   "id": "21c392b9-609e-4340-bb80-5b30ecbb4135",
   "metadata": {},
   "outputs": [
    {
     "name": "stdout",
     "output_type": "stream",
     "text": [
      "Synthetic Dataset:\n",
      "Custom Model MSE: 104.20226976850218\n",
      "Scikit-Learn Model MSE: 104.20222653187025\n",
      "\n",
      "Diabetes Dataset:\n",
      "Custom Model MSE: 4716.4628275434325\n",
      "Scikit-Learn Model MSE: 2900.1936284934804\n"
     ]
    }
   ],
   "source": [
    "import numpy as np\n",
    "from sklearn.linear_model import LinearRegression as SklearnLinearRegression\n",
    "from sklearn.metrics import mean_squared_error\n",
    "from sklearn.datasets import make_regression, load_diabetes\n",
    "from sklearn.model_selection import train_test_split\n",
    "\n",
    "# Custom Linear Regression class\n",
    "class CustomLinearRegression:\n",
    "    def __init__(self, learning_rate=0.01, epochs=1000):\n",
    "        self.learning_rate = learning_rate\n",
    "        self.epochs = epochs\n",
    "        self.w = None\n",
    "        self.b = None\n",
    "\n",
    "    def fit(self, X, y):\n",
    "        self.w = np.zeros(X.shape[1])\n",
    "        self.b = 0\n",
    "        n = len(y)\n",
    "\n",
    "        for _ in range(self.epochs):\n",
    "            y_pred = X.dot(self.w) + self.b\n",
    "            dw = (-2/n) * X.T.dot(y - y_pred)\n",
    "            db = (-2/n) * np.sum(y - y_pred)\n",
    "            self.w -= self.learning_rate * dw\n",
    "            self.b -= self.learning_rate * db\n",
    "\n",
    "    def predict(self, X):\n",
    "        return X.dot(self.w) + self.b\n",
    "\n",
    "# Function to evaluate both models\n",
    "def compare_models(X, y):\n",
    "    # Split into training and testing sets\n",
    "    X_train, X_test, y_train, y_test = train_test_split(X, y, test_size=0.2, random_state=42)\n",
    "\n",
    "    # Initialize and train custom model\n",
    "    custom_model = CustomLinearRegression(learning_rate=0.01, epochs=1000)\n",
    "    custom_model.fit(X_train, y_train)\n",
    "    y_pred_custom = custom_model.predict(X_test)\n",
    "    custom_mse = mean_squared_error(y_test, y_pred_custom)\n",
    "\n",
    "    # Initialize and train scikit-learn model\n",
    "    sklearn_model = SklearnLinearRegression()\n",
    "    sklearn_model.fit(X_train, y_train)\n",
    "    y_pred_sklearn = sklearn_model.predict(X_test)\n",
    "    sklearn_mse = mean_squared_error(y_test, y_pred_sklearn)\n",
    "\n",
    "    print(f\"Custom Model MSE: {custom_mse}\")\n",
    "    print(f\"Scikit-Learn Model MSE: {sklearn_mse}\")\n",
    "\n",
    "# Test on a synthetic dataset\n",
    "print(\"Synthetic Dataset:\")\n",
    "X, y = make_regression(n_samples=100, n_features=1, noise=10, random_state=42)\n",
    "compare_models(X, y)\n",
    "\n",
    "# Test on the diabetes dataset\n",
    "print(\"\\nDiabetes Dataset:\")\n",
    "diabetes = load_diabetes()\n",
    "compare_models(diabetes.data, diabetes.target)\n"
   ]
  },
  {
   "cell_type": "code",
   "execution_count": null,
   "id": "0971f0e0-4d12-4081-aed5-c2cf61f06147",
   "metadata": {},
   "outputs": [],
   "source": []
  }
 ],
 "metadata": {
  "kernelspec": {
   "display_name": "Python 3 (ipykernel)",
   "language": "python",
   "name": "python3"
  },
  "language_info": {
   "codemirror_mode": {
    "name": "ipython",
    "version": 3
   },
   "file_extension": ".py",
   "mimetype": "text/x-python",
   "name": "python",
   "nbconvert_exporter": "python",
   "pygments_lexer": "ipython3",
   "version": "3.12.4"
  }
 },
 "nbformat": 4,
 "nbformat_minor": 5
}
